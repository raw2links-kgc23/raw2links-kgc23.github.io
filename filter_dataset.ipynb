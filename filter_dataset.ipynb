{
 "cells": [
  {
   "cell_type": "code",
   "execution_count": 1,
   "metadata": {
    "collapsed": true,
    "ExecuteTime": {
     "start_time": "2023-04-03T14:40:38.708123Z",
     "end_time": "2023-04-03T14:40:39.332409Z"
    }
   },
   "outputs": [],
   "source": [
    "import pandas as pd\n",
    "import sqlite3"
   ]
  },
  {
   "cell_type": "markdown",
   "source": [
    "Dump the smallest tables as-is"
   ],
   "metadata": {
    "collapsed": false
   }
  },
  {
   "cell_type": "code",
   "execution_count": 5,
   "outputs": [],
   "source": [
    "con = sqlite3.connect(\"database.sqlite\")\n",
    "pd.read_sql_query(\"select * from Country\", con).to_csv('Country.csv', index=False)\n",
    "pd.read_sql_query(\"select * from League\", con).to_csv('League.csv', index=False)\n",
    "pd.read_sql_query(\"select * from Team\", con).to_csv('Team.csv', index=False)\n",
    "pd.read_sql_query(\"select * from Team_Attributes\", con).to_csv('Team_Attributes.csv', index=False)\n",
    "con.close()"
   ],
   "metadata": {
    "collapsed": false,
    "ExecuteTime": {
     "start_time": "2023-04-03T14:41:18.953706Z",
     "end_time": "2023-04-03T14:41:18.984837Z"
    }
   }
  },
  {
   "cell_type": "markdown",
   "source": [
    "Filter out the data on Match and \"flatten\" the records"
   ],
   "metadata": {
    "collapsed": false
   }
  },
  {
   "cell_type": "code",
   "execution_count": 6,
   "outputs": [
    {
     "data": {
      "text/plain": "        match_id  country_id  away_team_id  home_team_id  away_player_id  \\\n0           3249        1729          8472          9825           33863   \n1           3249        1729          8472          9825          175947   \n2           3249        1729          8472          9825           37868   \n3           3249        1729          8472          9825           30352   \n4           3249        1729          8472          9825           25075   \n...          ...         ...           ...           ...             ...   \n213197     23417       21518          8634          8370          150739   \n213198     23417       21518          8634          8370           30613   \n213199     23417       21518          8634          8370          213688   \n213200     23417       21518          8634          8370           30909   \n213201     23417       21518          8634          8370           23678   \n\n        home_player_id  \n0                31013  \n1                31013  \n2                31013  \n3                31013  \n4                31013  \n...                ...  \n213197           38367  \n213198           38367  \n213199           38367  \n213200           38367  \n213201           38367  \n\n[213202 rows x 6 columns]",
      "text/html": "<div>\n<style scoped>\n    .dataframe tbody tr th:only-of-type {\n        vertical-align: middle;\n    }\n\n    .dataframe tbody tr th {\n        vertical-align: top;\n    }\n\n    .dataframe thead th {\n        text-align: right;\n    }\n</style>\n<table border=\"1\" class=\"dataframe\">\n  <thead>\n    <tr style=\"text-align: right;\">\n      <th></th>\n      <th>match_id</th>\n      <th>country_id</th>\n      <th>away_team_id</th>\n      <th>home_team_id</th>\n      <th>away_player_id</th>\n      <th>home_player_id</th>\n    </tr>\n  </thead>\n  <tbody>\n    <tr>\n      <th>0</th>\n      <td>3249</td>\n      <td>1729</td>\n      <td>8472</td>\n      <td>9825</td>\n      <td>33863</td>\n      <td>31013</td>\n    </tr>\n    <tr>\n      <th>1</th>\n      <td>3249</td>\n      <td>1729</td>\n      <td>8472</td>\n      <td>9825</td>\n      <td>175947</td>\n      <td>31013</td>\n    </tr>\n    <tr>\n      <th>2</th>\n      <td>3249</td>\n      <td>1729</td>\n      <td>8472</td>\n      <td>9825</td>\n      <td>37868</td>\n      <td>31013</td>\n    </tr>\n    <tr>\n      <th>3</th>\n      <td>3249</td>\n      <td>1729</td>\n      <td>8472</td>\n      <td>9825</td>\n      <td>30352</td>\n      <td>31013</td>\n    </tr>\n    <tr>\n      <th>4</th>\n      <td>3249</td>\n      <td>1729</td>\n      <td>8472</td>\n      <td>9825</td>\n      <td>25075</td>\n      <td>31013</td>\n    </tr>\n    <tr>\n      <th>...</th>\n      <td>...</td>\n      <td>...</td>\n      <td>...</td>\n      <td>...</td>\n      <td>...</td>\n      <td>...</td>\n    </tr>\n    <tr>\n      <th>213197</th>\n      <td>23417</td>\n      <td>21518</td>\n      <td>8634</td>\n      <td>8370</td>\n      <td>150739</td>\n      <td>38367</td>\n    </tr>\n    <tr>\n      <th>213198</th>\n      <td>23417</td>\n      <td>21518</td>\n      <td>8634</td>\n      <td>8370</td>\n      <td>30613</td>\n      <td>38367</td>\n    </tr>\n    <tr>\n      <th>213199</th>\n      <td>23417</td>\n      <td>21518</td>\n      <td>8634</td>\n      <td>8370</td>\n      <td>213688</td>\n      <td>38367</td>\n    </tr>\n    <tr>\n      <th>213200</th>\n      <td>23417</td>\n      <td>21518</td>\n      <td>8634</td>\n      <td>8370</td>\n      <td>30909</td>\n      <td>38367</td>\n    </tr>\n    <tr>\n      <th>213201</th>\n      <td>23417</td>\n      <td>21518</td>\n      <td>8634</td>\n      <td>8370</td>\n      <td>23678</td>\n      <td>38367</td>\n    </tr>\n  </tbody>\n</table>\n<p>213202 rows × 6 columns</p>\n</div>"
     },
     "execution_count": 6,
     "metadata": {},
     "output_type": "execute_result"
    }
   ],
   "source": [
    "# Read the raw data\n",
    "con = sqlite3.connect(\"database.sqlite\")\n",
    "df = pd.read_sql_query(\"select * from Match\", con)\n",
    "df.dropna(inplace=True)\n",
    "con.close()\n",
    "\n",
    "tmp = []\n",
    "for row in df.itertuples():\n",
    "    # Extract the data we will keep\n",
    "    match_id = getattr(row, 'id')\n",
    "    away_team_id = getattr(row, 'away_team_api_id')\n",
    "    home_team_id = getattr(row, 'home_team_api_id')\n",
    "    country_id = getattr(row, 'country_id')\n",
    "    away_players = set([int(getattr(row, f'away_player_{i}')) for i in range(1,12)])\n",
    "    home_players = set([int(getattr(row, f'home_player_{i}')) for i in range(1,12)])\n",
    "    # Now create the rows\n",
    "    for home_player in home_players:\n",
    "        for away_player in away_players:\n",
    "            tmp.append([match_id, country_id, away_team_id, home_team_id, away_player, home_player])\n",
    "\n",
    "df_match = pd.DataFrame(tmp, columns=['match_id', 'country_id', 'away_team_id', 'home_team_id', 'away_player_id', 'home_player_id'])\n",
    "df_match.to_csv('Match.csv', index=False)\n",
    "df_match"
   ],
   "metadata": {
    "collapsed": false,
    "ExecuteTime": {
     "start_time": "2023-04-03T14:41:20.443916Z",
     "end_time": "2023-04-03T14:41:21.980784Z"
    }
   }
  },
  {
   "cell_type": "markdown",
   "source": [
    "extract the list of all the players we've seen, that will be used next"
   ],
   "metadata": {
    "collapsed": false
   }
  },
  {
   "cell_type": "code",
   "execution_count": 8,
   "outputs": [
    {
     "data": {
      "text/plain": "2344"
     },
     "execution_count": 8,
     "metadata": {},
     "output_type": "execute_result"
    }
   ],
   "source": [
    "players = set(df_match['away_player_id']) | set(df_match['home_player_id'])\n",
    "len(players)"
   ],
   "metadata": {
    "collapsed": false,
    "ExecuteTime": {
     "start_time": "2023-04-03T14:43:58.037141Z",
     "end_time": "2023-04-03T14:43:58.040118Z"
    }
   }
  },
  {
   "cell_type": "markdown",
   "source": [
    "filter out Player_Attributes to lower its size and only keep stats for active players"
   ],
   "metadata": {
    "collapsed": false
   }
  },
  {
   "cell_type": "code",
   "execution_count": 14,
   "outputs": [],
   "source": [
    "# Read the raw data\n",
    "con = sqlite3.connect(\"database.sqlite\")\n",
    "df = pd.read_sql_query(\"select * from Player_Attributes\", con)\n",
    "df.dropna(inplace=True)\n",
    "con.close()\n",
    "\n",
    "# Drop all the columns we won't use\n",
    "df.drop(columns=set(df.columns.values) - set(['player_api_id', 'overall_rating']), inplace=True)\n",
    "\n",
    "# Keep only players we see in matches\n",
    "df = df[df['player_api_id'].isin(players)]\n",
    "\n",
    "# Average the overall rating over time and save the output\n",
    "df.groupby(by='player_api_id').agg('mean').apply(lambda x: round(round(x) / 2.0) * 2.0).reset_index().to_csv('Player_Attributes.csv', index=False)"
   ],
   "metadata": {
    "collapsed": false,
    "ExecuteTime": {
     "start_time": "2023-04-03T14:54:08.118156Z",
     "end_time": "2023-04-03T14:54:09.945047Z"
    }
   }
  },
  {
   "cell_type": "markdown",
   "source": [
    "finally, we filter the player information to keep only players that play"
   ],
   "metadata": {
    "collapsed": false
   }
  },
  {
   "cell_type": "code",
   "execution_count": 16,
   "outputs": [],
   "source": [
    "# Read the raw data\n",
    "con = sqlite3.connect(\"database.sqlite\")\n",
    "df = pd.read_sql_query(\"select * from Player\", con)\n",
    "df.dropna(inplace=True)\n",
    "con.close()\n",
    "\n",
    "# Keep only players we see in matches\n",
    "df = df[df['player_api_id'].isin(players)]\n",
    "\n",
    "# Save\n",
    "df.to_csv('Player.csv', index=False)\n"
   ],
   "metadata": {
    "collapsed": false,
    "ExecuteTime": {
     "start_time": "2023-04-03T14:54:51.637064Z",
     "end_time": "2023-04-03T14:54:51.675201Z"
    }
   }
  },
  {
   "cell_type": "code",
   "execution_count": null,
   "outputs": [],
   "source": [],
   "metadata": {
    "collapsed": false
   }
  }
 ],
 "metadata": {
  "kernelspec": {
   "display_name": "Python 3",
   "language": "python",
   "name": "python3"
  },
  "language_info": {
   "codemirror_mode": {
    "name": "ipython",
    "version": 2
   },
   "file_extension": ".py",
   "mimetype": "text/x-python",
   "name": "python",
   "nbconvert_exporter": "python",
   "pygments_lexer": "ipython2",
   "version": "2.7.6"
  }
 },
 "nbformat": 4,
 "nbformat_minor": 0
}
